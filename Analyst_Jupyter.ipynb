{
 "cells": [
  {
   "cell_type": "code",
   "execution_count": null,
   "metadata": {},
   "outputs": [],
   "source": [
    "# -*- coding: utf-8 -*-\n",
    "\"\"\"\n",
    "@author: David\n",
    "\"\"\"\n",
    "\n",
    "from bs4 import BeautifulSoup\n",
    "import requests\n",
    "import re\n",
    "from datetime import datetime\n",
    "import json\n",
    "\n",
    "#dict to store our data\n",
    "data= {}\n",
    "# company websites to scrape\n",
    "company ={'AAPL':'https://www.marketbeat.com/stocks/NASDAQ/ADBE/price-target/',\n",
    "          'TSLA':'https://www.marketbeat.com/stocks/NASDAQ/TSLA/price-target/',\n",
    "          'CRM':'https://www.marketbeat.com/stocks/NYSE/CRM/price-target/',\n",
    "         'S&P':'https://www.marketbeat.com/stocks/NYSEARCA/SPY/price-target/',\n",
    "         'NFLX':'https://www.marketbeat.com/stocks/NASDAQ/NFLX/price-target/'}\n",
    "\n",
    "\n",
    "#looping through each company          \n",
    "for key,value in company.items():\n",
    "    page_link = value\n",
    "    #page_link = 'https://finance.yahoo.com/quote/AAPL/history?p=AAPL'\n",
    "    page_response = requests.get(page_link, timeout=5)\n",
    "    soup = BeautifulSoup(page_response.content, \"html.parser\")\n",
    "    #create the soup from the page link\n",
    "    y = str(soup)\n",
    "    #use regular expression to find the correct table\n",
    "    x = re.findall('Ratings Breakdown(.*?)Price Target',y)\n",
    "    #use regular expression to find analyst rating\n",
    "    sell_ratings = re.findall('\\<td\\>(.*?) Sell',x[0])\n",
    "    hold_ratings = re.findall('Sell Rating\\(s\\)\\<br\\/\\>(.*?) Hold',x[0])           \n",
    "    buy_ratings = re.findall('Hold Rating\\(s\\)\\<br\\/\\>(.*?) Buy',x[0])\n",
    "    strong_buy_ratings = re.findall('Buy Rating\\(s\\)\\<br\\/\\>(.*?) Strong Buy',x[0])       \n",
    "    #create dictionary to hold each rating\n",
    "    my_dict = {}\n",
    "    my_dict['sell'] = sell_ratings[0]\n",
    "    my_dict['hold'] = hold_ratings[0]\n",
    "    my_dict['buy'] = buy_ratings[0]\n",
    "    my_dict['strongbuy'] = strong_buy_ratings[0]\n",
    "    #only slice off the latest ratings \n",
    "    data[key] = my_dict\n",
    "\n",
    "#export data\n",
    "with open('analyst.txt', 'w') as outfile:  \n",
    "    json.dump(data, outfile)"
   ]
  }
 ],
 "metadata": {
  "kernelspec": {
   "display_name": "Python 3",
   "language": "python",
   "name": "python3"
  },
  "language_info": {
   "codemirror_mode": {
    "name": "ipython",
    "version": 3
   },
   "file_extension": ".py",
   "mimetype": "text/x-python",
   "name": "python",
   "nbconvert_exporter": "python",
   "pygments_lexer": "ipython3",
   "version": "3.6.5"
  }
 },
 "nbformat": 4,
 "nbformat_minor": 2
}
