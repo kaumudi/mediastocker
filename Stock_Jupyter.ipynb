{
 "cells": [
  {
   "cell_type": "markdown",
   "metadata": {},
   "source": [
    "### This code helps us get historical stock data from Yahoo Finance. \n",
    "### We are scraping data from Aug 13th 2018 to Sep 13th 2018. Our data\n",
    "### scrapped include the opening and closing price on a daily basis. Our program\n",
    "### will output these into a txt file as the output.\n"
   ]
  },
  {
   "cell_type": "code",
   "execution_count": null,
   "metadata": {},
   "outputs": [],
   "source": [
    "# -*- coding: utf-8 -*-\n",
    "\"\"\"\n",
    "@author: David\n",
    "\"\"\"\n",
    "\n",
    "from bs4 import BeautifulSoup\n",
    "import requests\n",
    "import re\n",
    "from datetime import datetime\n",
    "import json\n",
    "\n",
    "#dict to store our data\n",
    "data= {}\n",
    "# company websites to scrape\n",
    "company ={'AAPL':'https://finance.yahoo.com/quote/AAPL/history?period1=1534132800&period2=1536811200&interval=1d&filter=history&frequency=1d',\n",
    "          'TSLA':'https://finance.yahoo.com/quote/TSLA/history?period1=1534132800&period2=1536811200&interval=1d&filter=history&frequency=1d',\n",
    "          'CRM':'https://finance.yahoo.com/quote/CRM/history?period1=1534132800&period2=1536811200&interval=1d&filter=history&frequency=1d',\n",
    "          'S&P':'https://finance.yahoo.com/quote/SPY/history?period1=1534132800&period2=1536811200&interval=1d&filter=history&frequency=1d',\n",
    "          'NFLX':'https://finance.yahoo.com/quote/NFLX/history?period1=1534132800&period2=1536811200&interval=1d&filter=history&frequency=1d'}\n",
    "          \n",
    "\n",
    "#looping through each company \n",
    "for key,value in company.items():\n",
    "    page_link = value\n",
    "#get the page\n",
    "   page_response = requests.get(page_link, timeout=5)\n",
    "    soup = BeautifulSoup(page_response.content, \"html.parser\")\n",
    "#create the soup from the page link\n",
    "\n",
    "#find the script objects\n",
    "    x = (soup.find_all(\"script\"))\n",
    "    y = x[-3]\n",
    "#from combing through the data we know that the data is in the 3rd to last script\n",
    "    y= str(y)\n",
    "    date_time = []\n",
    "    time = re.findall('\\{\\\"date\\\":([0-9]*?),\\\"',y)\n",
    "#use regular expressions to find date\n",
    "    for t in time:\n",
    "        date_time.append(datetime.fromtimestamp(int(t)).strftime(\"%A, %B %d, %Y %I:%M:%S\"))\n",
    "#change date from seconds format\n",
    "    open_price = re.findall('open\\\":(.*?),\\\"',y)\n",
    "#get opening price\n",
    "    close_price = re.findall('\\\"close\\\":(.*?),\\\"volume',y)\n",
    "#get closing price \n",
    "    open_price = open_price[1:]\n",
    "#slice all but the 1st opening price due to website double coding with a raw string \n",
    "    data[key] = [date_time,time,open_price,close_price]\n",
    "\n",
    "#export data \n",
    "with open('data.txt', 'w') as outfile:  \n",
    "    json.dump(data, outfile)"
   ]
  }
 ],
 "metadata": {
  "kernelspec": {
   "display_name": "Python 3",
   "language": "python",
   "name": "python3"
  },
  "language_info": {
   "codemirror_mode": {
    "name": "ipython",
    "version": 3
   },
   "file_extension": ".py",
   "mimetype": "text/x-python",
   "name": "python",
   "nbconvert_exporter": "python",
   "pygments_lexer": "ipython3",
   "version": "3.6.6"
  }
 },
 "nbformat": 4,
 "nbformat_minor": 2
}
