{
 "cells": [
  {
   "cell_type": "markdown",
   "metadata": {},
   "source": [
    "#### This program fetches the real time tweets from twitter. The search criterian is given in the setQuerySearch() below for the tweets we want. To evaluate on stocks, we are just using \"Elon Musk\",\"tesla\",\"netflix\",\"Reed Hastings\",\"nflx\",\"reedhastings\",\"Tim Cook\",\"Tim_cook\",\"Marc Benioff\",\"Salesforce\",\"sp500\" because as per our research, these are the top people/companies who are active on twitter."
   ]
  },
  {
   "cell_type": "markdown",
   "metadata": {},
   "source": [
    "### please install tweepy from requirements.txt before running this program.\n",
    "### below is the help guide for tweepy\n",
    "https://github.com/tweepy/tweepy"
   ]
  },
  {
   "cell_type": "code",
   "execution_count": null,
   "metadata": {},
   "outputs": [],
   "source": [
    "# -*- coding: utf-8 -*-\n",
    "\"\"\"\n",
    "Created on Sun Sep 30 00:38:37 2018\n",
    "\n",
    "@author: Kaumudi\n",
    "\"\"\"\n",
    "import time\n",
    "import urllib\n",
    "from tweepy import Stream\n",
    "from tweepy import OAuthHandler\n",
    "from tweepy.streaming import StreamListener\n",
    "from got3 import manager\n",
    "#get the below values once the twitter dev's account is created\n",
    "ckey=\"\"\n",
    "csecret=\"\"\n",
    "atoken=\"\"\n",
    "asecret=\"\"\n",
    "class listener(StreamListener):\n",
    "    def __init__(self, api=None, path=None):\n",
    "        #I don't remember exactly why I defined this.\n",
    "        self.api = api\n",
    "        #We'll need this later.\n",
    "        self.path = path\n",
    "\n",
    "    def on_data(self,data):\n",
    "        file=open(\"D:\\SEM-1 Mini-1\\Python\\\\tweets.json\", \"a\")\n",
    "        file.write(data+ \"\\n\")\n",
    "        file.close()\n",
    "        print(\"record saved\")\n",
    "        return True\n",
    "\n",
    "    def on_error(self, status):\n",
    "        print(status)\n",
    "\n",
    "auth = OAuthHandler(ckey, csecret)\n",
    "auth.set_access_token(atoken, asecret)\n",
    "twitterStream = Stream(auth, listener())\n",
    "tweetCriteria = manager.TweetCriteria().setQuerySearch(\"Elon Musk\",\"tesla\",\"netflix\",\"Reed Hastings\",\"nflx\",\"reedhastings\",\"Tim Cook\",\"Tim_cook\",\"Marc Benioff\",\"Salesforce\",\"sp500\")\n",
    "try:\n",
    "    twitterStream.filter(track=tweetCriteria)\n",
    "except:\n",
    "    print(\"Failed to write into the file\")"
   ]
  }
 ],
 "metadata": {
  "kernelspec": {
   "display_name": "Python 3",
   "language": "python",
   "name": "python3"
  },
  "language_info": {
   "codemirror_mode": {
    "name": "ipython",
    "version": 3
   },
   "file_extension": ".py",
   "mimetype": "text/x-python",
   "name": "python",
   "nbconvert_exporter": "python",
   "pygments_lexer": "ipython3",
   "version": "3.6.6"
  }
 },
 "nbformat": 4,
 "nbformat_minor": 2
}
